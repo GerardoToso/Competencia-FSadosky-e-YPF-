{
  "nbformat": 4,
  "nbformat_minor": 0,
  "metadata": {
    "colab": {
      "provenance": [],
      "mount_file_id": "18HjrUmFyv5Zb0UkFnOnKSlgQPNeUd2Vp",
      "authorship_tag": "ABX9TyNmBAAmXq+EsdrL1OgrnC22",
      "include_colab_link": true
    },
    "kernelspec": {
      "name": "python3",
      "display_name": "Python 3"
    },
    "language_info": {
      "name": "python"
    }
  },
  "cells": [
    {
      "cell_type": "markdown",
      "metadata": {
        "id": "view-in-github",
        "colab_type": "text"
      },
      "source": [
        "<a href=\"https://colab.research.google.com/github/GerardoToso/Competencia-FSadosky-e-YPF-/blob/main/04_Whole_population_light_gbm_classifier.ipynb\" target=\"_parent\"><img src=\"https://colab.research.google.com/assets/colab-badge.svg\" alt=\"Open In Colab\"/></a>"
      ]
    },
    {
      "cell_type": "markdown",
      "source": [
        "<table style=\"float:left; border:none\">\n",
        "   <tr style=\"border:none\">\n",
        "       <td style=\"border:none\">  \n",
        "           <img \n",
        "               src=\"\" \n",
        "               style=\"width:10px\"\n",
        "           >\n",
        "           </a>    \n",
        "       </td>\n",
        "   </tr>\n",
        "</table>\n",
        "<div style=\"float:right;\"><h2>04. Whole population light gbm classifier</h2></div>"
      ],
      "metadata": {
        "id": "n5s5fPTOPsxK"
      }
    },
    {
      "cell_type": "markdown",
      "source": [
        " <a id=\"top\"></a> <br>\n",
        "## Índice\n",
        "1. [Entradas y Entregable](#1)<br>\n",
        "    1.1. [Entradas del modelo](#11)<br>\n",
        "    1.2. [Entregable](#12)<br>\n",
        "2. [Carga de paquetes y datos](#2)<br>\n",
        "    2.1. [Librerías y clases](#21)<br>\n",
        "    2.2. [Lectura de datos](#22)<br>\n",
        "    2.3. [Eliminación de valores nulos](#23)<br>\n",
        "    2.4. [Binarización de variable delta_WHP](#24)<br>\n",
        "    2.5. [Separación en train y test](#25)<br>\n",
        "3. [Modelo](#3)<br>\n",
        "    3.1. [Confección pipeline](#31)<br>\n",
        "    3.2. [Optimización de hiperparámetros](#32)<br>\n",
        "    3.3. [Entrenamiento del modelo](#33)<br>\n",
        "    3.4. [Mejores Hiperparámetros](#34)<br>\n",
        "4. [Evaluación del modelo](#4)<br>\n",
        "    4.1. [Cálculo de métricas](#41)<br>\n",
        "    4.2. [Matriz de confusión](#42)<br>\n",
        "    4.3. [ROC Curve](#43)<br>\n",
        "    4.4. [Precision-Recall curve](#44)<br>"
      ],
      "metadata": {
        "id": "oTAVIU-USASN"
      }
    },
    {
      "cell_type": "markdown",
      "source": [
        "***\n",
        "<a id=\"1\"></a> <br>\n",
        "## 1. Entradas y Entregable"
      ],
      "metadata": {
        "id": "sGKNaC3OSFi3"
      }
    },
    {
      "cell_type": "markdown",
      "source": [
        "<a id=\"11\"></a>\n",
        "### 1.1. Entradas"
      ],
      "metadata": {
        "id": "W4a6rX52SJNY"
      }
    },
    {
      "cell_type": "markdown",
      "source": [
        "|Tipo|Nombre|Descripción|Ubicación Lab|\n",
        "|:-------|----------------|---------------------------------------------------|-------------------------------------|\n",
        "|**csv**| `Dataset participantes.csv` | datos relacionados con los pozos al producirse una interferencia por la estimulación de un pozo hijo |`/content/drive/MyDrive/DataScience/TRABAJOS PARTICULARES/YPF/DATASET/`|"
      ],
      "metadata": {
        "id": "qBs6rF_LSLjT"
      }
    },
    {
      "cell_type": "markdown",
      "source": [
        "<a id=\"12\"></a>\n",
        "### 1.2. Entregable"
      ],
      "metadata": {
        "id": "KFX_oB5TSN4z"
      }
    },
    {
      "cell_type": "markdown",
      "source": [
        "**Archivo csv con las estimaciones de delta_WHP**"
      ],
      "metadata": {
        "id": "dB85PUrtSQUf"
      }
    },
    {
      "cell_type": "markdown",
      "source": [
        "***\n",
        "<a id=\"2\"></a> <br>\n",
        "## 2. Carga de paquetes y datos"
      ],
      "metadata": {
        "id": "PfUQKCtLSTSR"
      }
    },
    {
      "cell_type": "markdown",
      "source": [
        "<a id=\"21\"></a>\n",
        "### 2.1. Librerías y clases"
      ],
      "metadata": {
        "id": "f7uHIpEMSU_T"
      }
    },
    {
      "cell_type": "code",
      "source": [
        "import pandas as pd\n",
        "import numpy as np\n",
        "import seaborn as sns\n",
        "import matplotlib.pyplot as plt\n",
        "%matplotlib inline\n",
        "\n",
        "import statsmodels.api as sm\n",
        "\n",
        "from sklearn.model_selection import train_test_split, GridSearchCV, StratifiedKFold\n",
        "from sklearn.metrics import precision_score, confusion_matrix, roc_curve, average_precision_score, precision_recall_curve, plot_precision_recall_curve\n",
        "from sklearn.compose import ColumnTransformer\n",
        "from sklearn.preprocessing import StandardScaler\n",
        "from sklearn.pipeline import Pipeline\n",
        "from sklearn.base import BaseEstimator, TransformerMixin\n",
        "import lightgbm as lgb\n",
        "\n",
        "import chardet\n",
        "\n",
        "import warnings\n",
        "warnings.filterwarnings(\"ignore\")"
      ],
      "metadata": {
        "id": "L5zkaVUfSX1l"
      },
      "execution_count": 23,
      "outputs": []
    },
    {
      "cell_type": "code",
      "source": [
        "# Esta clase permite dropear columnas de un DataFrame dentro de un pipeline\n",
        "\n",
        "class ColumnDropper(BaseEstimator, TransformerMixin):\n",
        "    def __init__(self,columns):\n",
        "        self.columns=columns\n",
        "\n",
        "    def transform(self,X,y=None):\n",
        "        return X.drop(self.columns,axis=1)\n",
        "\n",
        "    def fit(self, X, y=None):\n",
        "        return self  "
      ],
      "metadata": {
        "id": "f-H0tDHFSgdL"
      },
      "execution_count": 24,
      "outputs": []
    },
    {
      "cell_type": "markdown",
      "source": [
        "<a id=\"22\"></a> <br>\n",
        "### 2.2. Lectura de datos"
      ],
      "metadata": {
        "id": "6mnICfTTSkN7"
      }
    },
    {
      "cell_type": "code",
      "source": [
        "# Detección automática de la codificación de los caracteres\n",
        "with open(\"/content/drive/MyDrive/DataScience/TRABAJOS PARTICULARES/YPF/DATASET/Dataset participantes.csv\", 'rb') as f:\n",
        "    enc = chardet.detect(f.read())  # or readline if the file is large\n",
        "\n",
        "# Lectura del csv\n",
        "df = pd.read_csv(\"/content/drive/MyDrive/DataScience/TRABAJOS PARTICULARES/YPF/DATASET/Dataset participantes.csv\", sep = \"\\t\",encoding = enc['encoding'], index_col=0)\n",
        "\n",
        "df.sample(5)"
      ],
      "metadata": {
        "id": "BRzl8zLUSjyQ",
        "colab": {
          "base_uri": "https://localhost:8080/",
          "height": 237
        },
        "outputId": "2cd92a05-83e9-42ac-86c4-1f829705a45f"
      },
      "execution_count": 25,
      "outputs": [
        {
          "output_type": "execute_result",
          "data": {
            "text/plain": [
              "                    ID_EVENTO    CAMPO FLUIDO PAD_HIJO      HIJO  ETAPA_HIJO  \\\n",
              "ID_FILA                                                                        \n",
              "18980    Pozo 549-Pozo 377-32  Campo E    OIL   PAD-84  Pozo 549          32   \n",
              "19723    Pozo 405-Pozo 239-10  Campo F    OIL   PAD-60  Pozo 405          10   \n",
              "13289      Pozo 64-Pozo 61-34  Campo D    OIL   PAD-45   Pozo 64          34   \n",
              "9939       Pozo 30-Pozo 21-39  Campo B    OIL    PAD-6   Pozo 30          39   \n",
              "11830     Pozo 63-Pozo 190-34  Campo D    OIL   PAD-45   Pozo 63          34   \n",
              "\n",
              "            PADRE          D3D          D2D         DZ          AZ  \\\n",
              "ID_FILA                                                              \n",
              "18980    Pozo 377  1474.508531  1474.482040  -8.838649  256.446487   \n",
              "19723    Pozo 239   649.107037   649.054152  -8.285725  128.512140   \n",
              "13289     Pozo 61  1032.930970  1032.777775  17.789247  307.997044   \n",
              "9939      Pozo 21  1508.466944  1508.456659   5.570267  323.046453   \n",
              "11830    Pozo 190  1147.756255  1147.746840  -4.648790  110.126619   \n",
              "\n",
              "         #_BARRERAS LINEAMIENTO  WHP_i  delta_WHP   ESTADO  \n",
              "ID_FILA                                                     \n",
              "18980             4          NO   61.4        0.0  Cerrado  \n",
              "19723             0          NO   93.3        3.7  Cerrado  \n",
              "13289             0          NO  199.6        0.0  Abierto  \n",
              "9939              0          NO   77.7        0.0  Abierto  \n",
              "11830             2          NO  119.2        0.0  Abierto  "
            ],
            "text/html": [
              "\n",
              "  <div id=\"df-dfe9af1f-152b-4144-8f43-c59d7441f3a3\">\n",
              "    <div class=\"colab-df-container\">\n",
              "      <div>\n",
              "<style scoped>\n",
              "    .dataframe tbody tr th:only-of-type {\n",
              "        vertical-align: middle;\n",
              "    }\n",
              "\n",
              "    .dataframe tbody tr th {\n",
              "        vertical-align: top;\n",
              "    }\n",
              "\n",
              "    .dataframe thead th {\n",
              "        text-align: right;\n",
              "    }\n",
              "</style>\n",
              "<table border=\"1\" class=\"dataframe\">\n",
              "  <thead>\n",
              "    <tr style=\"text-align: right;\">\n",
              "      <th></th>\n",
              "      <th>ID_EVENTO</th>\n",
              "      <th>CAMPO</th>\n",
              "      <th>FLUIDO</th>\n",
              "      <th>PAD_HIJO</th>\n",
              "      <th>HIJO</th>\n",
              "      <th>ETAPA_HIJO</th>\n",
              "      <th>PADRE</th>\n",
              "      <th>D3D</th>\n",
              "      <th>D2D</th>\n",
              "      <th>DZ</th>\n",
              "      <th>AZ</th>\n",
              "      <th>#_BARRERAS</th>\n",
              "      <th>LINEAMIENTO</th>\n",
              "      <th>WHP_i</th>\n",
              "      <th>delta_WHP</th>\n",
              "      <th>ESTADO</th>\n",
              "    </tr>\n",
              "    <tr>\n",
              "      <th>ID_FILA</th>\n",
              "      <th></th>\n",
              "      <th></th>\n",
              "      <th></th>\n",
              "      <th></th>\n",
              "      <th></th>\n",
              "      <th></th>\n",
              "      <th></th>\n",
              "      <th></th>\n",
              "      <th></th>\n",
              "      <th></th>\n",
              "      <th></th>\n",
              "      <th></th>\n",
              "      <th></th>\n",
              "      <th></th>\n",
              "      <th></th>\n",
              "      <th></th>\n",
              "    </tr>\n",
              "  </thead>\n",
              "  <tbody>\n",
              "    <tr>\n",
              "      <th>18980</th>\n",
              "      <td>Pozo 549-Pozo 377-32</td>\n",
              "      <td>Campo E</td>\n",
              "      <td>OIL</td>\n",
              "      <td>PAD-84</td>\n",
              "      <td>Pozo 549</td>\n",
              "      <td>32</td>\n",
              "      <td>Pozo 377</td>\n",
              "      <td>1474.508531</td>\n",
              "      <td>1474.482040</td>\n",
              "      <td>-8.838649</td>\n",
              "      <td>256.446487</td>\n",
              "      <td>4</td>\n",
              "      <td>NO</td>\n",
              "      <td>61.4</td>\n",
              "      <td>0.0</td>\n",
              "      <td>Cerrado</td>\n",
              "    </tr>\n",
              "    <tr>\n",
              "      <th>19723</th>\n",
              "      <td>Pozo 405-Pozo 239-10</td>\n",
              "      <td>Campo F</td>\n",
              "      <td>OIL</td>\n",
              "      <td>PAD-60</td>\n",
              "      <td>Pozo 405</td>\n",
              "      <td>10</td>\n",
              "      <td>Pozo 239</td>\n",
              "      <td>649.107037</td>\n",
              "      <td>649.054152</td>\n",
              "      <td>-8.285725</td>\n",
              "      <td>128.512140</td>\n",
              "      <td>0</td>\n",
              "      <td>NO</td>\n",
              "      <td>93.3</td>\n",
              "      <td>3.7</td>\n",
              "      <td>Cerrado</td>\n",
              "    </tr>\n",
              "    <tr>\n",
              "      <th>13289</th>\n",
              "      <td>Pozo 64-Pozo 61-34</td>\n",
              "      <td>Campo D</td>\n",
              "      <td>OIL</td>\n",
              "      <td>PAD-45</td>\n",
              "      <td>Pozo 64</td>\n",
              "      <td>34</td>\n",
              "      <td>Pozo 61</td>\n",
              "      <td>1032.930970</td>\n",
              "      <td>1032.777775</td>\n",
              "      <td>17.789247</td>\n",
              "      <td>307.997044</td>\n",
              "      <td>0</td>\n",
              "      <td>NO</td>\n",
              "      <td>199.6</td>\n",
              "      <td>0.0</td>\n",
              "      <td>Abierto</td>\n",
              "    </tr>\n",
              "    <tr>\n",
              "      <th>9939</th>\n",
              "      <td>Pozo 30-Pozo 21-39</td>\n",
              "      <td>Campo B</td>\n",
              "      <td>OIL</td>\n",
              "      <td>PAD-6</td>\n",
              "      <td>Pozo 30</td>\n",
              "      <td>39</td>\n",
              "      <td>Pozo 21</td>\n",
              "      <td>1508.466944</td>\n",
              "      <td>1508.456659</td>\n",
              "      <td>5.570267</td>\n",
              "      <td>323.046453</td>\n",
              "      <td>0</td>\n",
              "      <td>NO</td>\n",
              "      <td>77.7</td>\n",
              "      <td>0.0</td>\n",
              "      <td>Abierto</td>\n",
              "    </tr>\n",
              "    <tr>\n",
              "      <th>11830</th>\n",
              "      <td>Pozo 63-Pozo 190-34</td>\n",
              "      <td>Campo D</td>\n",
              "      <td>OIL</td>\n",
              "      <td>PAD-45</td>\n",
              "      <td>Pozo 63</td>\n",
              "      <td>34</td>\n",
              "      <td>Pozo 190</td>\n",
              "      <td>1147.756255</td>\n",
              "      <td>1147.746840</td>\n",
              "      <td>-4.648790</td>\n",
              "      <td>110.126619</td>\n",
              "      <td>2</td>\n",
              "      <td>NO</td>\n",
              "      <td>119.2</td>\n",
              "      <td>0.0</td>\n",
              "      <td>Abierto</td>\n",
              "    </tr>\n",
              "  </tbody>\n",
              "</table>\n",
              "</div>\n",
              "      <button class=\"colab-df-convert\" onclick=\"convertToInteractive('df-dfe9af1f-152b-4144-8f43-c59d7441f3a3')\"\n",
              "              title=\"Convert this dataframe to an interactive table.\"\n",
              "              style=\"display:none;\">\n",
              "        \n",
              "  <svg xmlns=\"http://www.w3.org/2000/svg\" height=\"24px\"viewBox=\"0 0 24 24\"\n",
              "       width=\"24px\">\n",
              "    <path d=\"M0 0h24v24H0V0z\" fill=\"none\"/>\n",
              "    <path d=\"M18.56 5.44l.94 2.06.94-2.06 2.06-.94-2.06-.94-.94-2.06-.94 2.06-2.06.94zm-11 1L8.5 8.5l.94-2.06 2.06-.94-2.06-.94L8.5 2.5l-.94 2.06-2.06.94zm10 10l.94 2.06.94-2.06 2.06-.94-2.06-.94-.94-2.06-.94 2.06-2.06.94z\"/><path d=\"M17.41 7.96l-1.37-1.37c-.4-.4-.92-.59-1.43-.59-.52 0-1.04.2-1.43.59L10.3 9.45l-7.72 7.72c-.78.78-.78 2.05 0 2.83L4 21.41c.39.39.9.59 1.41.59.51 0 1.02-.2 1.41-.59l7.78-7.78 2.81-2.81c.8-.78.8-2.07 0-2.86zM5.41 20L4 18.59l7.72-7.72 1.47 1.35L5.41 20z\"/>\n",
              "  </svg>\n",
              "      </button>\n",
              "      \n",
              "  <style>\n",
              "    .colab-df-container {\n",
              "      display:flex;\n",
              "      flex-wrap:wrap;\n",
              "      gap: 12px;\n",
              "    }\n",
              "\n",
              "    .colab-df-convert {\n",
              "      background-color: #E8F0FE;\n",
              "      border: none;\n",
              "      border-radius: 50%;\n",
              "      cursor: pointer;\n",
              "      display: none;\n",
              "      fill: #1967D2;\n",
              "      height: 32px;\n",
              "      padding: 0 0 0 0;\n",
              "      width: 32px;\n",
              "    }\n",
              "\n",
              "    .colab-df-convert:hover {\n",
              "      background-color: #E2EBFA;\n",
              "      box-shadow: 0px 1px 2px rgba(60, 64, 67, 0.3), 0px 1px 3px 1px rgba(60, 64, 67, 0.15);\n",
              "      fill: #174EA6;\n",
              "    }\n",
              "\n",
              "    [theme=dark] .colab-df-convert {\n",
              "      background-color: #3B4455;\n",
              "      fill: #D2E3FC;\n",
              "    }\n",
              "\n",
              "    [theme=dark] .colab-df-convert:hover {\n",
              "      background-color: #434B5C;\n",
              "      box-shadow: 0px 1px 3px 1px rgba(0, 0, 0, 0.15);\n",
              "      filter: drop-shadow(0px 1px 2px rgba(0, 0, 0, 0.3));\n",
              "      fill: #FFFFFF;\n",
              "    }\n",
              "  </style>\n",
              "\n",
              "      <script>\n",
              "        const buttonEl =\n",
              "          document.querySelector('#df-dfe9af1f-152b-4144-8f43-c59d7441f3a3 button.colab-df-convert');\n",
              "        buttonEl.style.display =\n",
              "          google.colab.kernel.accessAllowed ? 'block' : 'none';\n",
              "\n",
              "        async function convertToInteractive(key) {\n",
              "          const element = document.querySelector('#df-dfe9af1f-152b-4144-8f43-c59d7441f3a3');\n",
              "          const dataTable =\n",
              "            await google.colab.kernel.invokeFunction('convertToInteractive',\n",
              "                                                     [key], {});\n",
              "          if (!dataTable) return;\n",
              "\n",
              "          const docLinkHtml = 'Like what you see? Visit the ' +\n",
              "            '<a target=\"_blank\" href=https://colab.research.google.com/notebooks/data_table.ipynb>data table notebook</a>'\n",
              "            + ' to learn more about interactive tables.';\n",
              "          element.innerHTML = '';\n",
              "          dataTable['output_type'] = 'display_data';\n",
              "          await google.colab.output.renderOutput(dataTable, element);\n",
              "          const docLink = document.createElement('div');\n",
              "          docLink.innerHTML = docLinkHtml;\n",
              "          element.appendChild(docLink);\n",
              "        }\n",
              "      </script>\n",
              "    </div>\n",
              "  </div>\n",
              "  "
            ]
          },
          "metadata": {},
          "execution_count": 25
        }
      ]
    },
    {
      "cell_type": "code",
      "source": [
        "# Se cambia el tipo de datos de variables categóricas nominales de object a category\n",
        "df = df.astype({\"CAMPO\": \"category\", \"FLUIDO\": \"category\", \"PAD_HIJO\": \"category\", \"HIJO\": \"category\",\n",
        "                \"ETAPA_HIJO\": \"category\", \"PADRE\": \"category\", \"LINEAMIENTO\": \"category\", \"ESTADO\": \"category\"})\n",
        "df.dtypes"
      ],
      "metadata": {
        "id": "8fl5ijE44on8",
        "colab": {
          "base_uri": "https://localhost:8080/"
        },
        "outputId": "ec35799b-6e29-4bee-8977-8ea3da33568f"
      },
      "execution_count": 26,
      "outputs": [
        {
          "output_type": "execute_result",
          "data": {
            "text/plain": [
              "ID_EVENTO        object\n",
              "CAMPO          category\n",
              "FLUIDO         category\n",
              "PAD_HIJO       category\n",
              "HIJO           category\n",
              "ETAPA_HIJO     category\n",
              "PADRE          category\n",
              "D3D             float64\n",
              "D2D             float64\n",
              "DZ              float64\n",
              "AZ              float64\n",
              "#_BARRERAS        int64\n",
              "LINEAMIENTO    category\n",
              "WHP_i           float64\n",
              "delta_WHP       float64\n",
              "ESTADO         category\n",
              "dtype: object"
            ]
          },
          "metadata": {},
          "execution_count": 26
        }
      ]
    },
    {
      "cell_type": "markdown",
      "source": [
        "<a id=\"23\"></a> <br>\n",
        "### 2.3. Eliminación de valores nulos\n",
        "**Dado que el modelo a desarrollar en el presente notebook será tomado como baseline, se eliminan los valores nulos para mayor practicidad**"
      ],
      "metadata": {
        "id": "eO8RngAhIHWT"
      }
    },
    {
      "cell_type": "code",
      "source": [
        "print(\"Cantidad de instancias totales =\", df.shape[0])\n",
        "# Eliminación de todos los valores nulos de dataset\n",
        "df.dropna(inplace=True)\n",
        "print(\"Cantidad de instancias sin valores nulos =\", df.shape[0])"
      ],
      "metadata": {
        "id": "D81MkQOVIGJv",
        "colab": {
          "base_uri": "https://localhost:8080/"
        },
        "outputId": "4174b68a-71bc-4719-99f0-75895589284c"
      },
      "execution_count": 27,
      "outputs": [
        {
          "output_type": "stream",
          "name": "stdout",
          "text": [
            "Cantidad de instancias totales = 26178\n",
            "Cantidad de instancias sin valores nulos = 25929\n"
          ]
        }
      ]
    },
    {
      "cell_type": "markdown",
      "source": [
        "<a id=\"24\"></a> <br>\n",
        "### 2.4. Binarización de variable delta_WHP"
      ],
      "metadata": {
        "id": "xq72wQp7IbW2"
      }
    },
    {
      "cell_type": "code",
      "source": [
        "# Se crea una nueva variable en donde se asigna valor 0 cuando delta_WHP = 0 y valor 1 cuando delta_WHP != 0\n",
        "df[\"delta_WHP_binarized\"] = df[\"delta_WHP\"].apply(lambda val: 1 if val != 0 else 0)"
      ],
      "metadata": {
        "id": "FR6JPA-5IbB3"
      },
      "execution_count": 28,
      "outputs": []
    },
    {
      "cell_type": "markdown",
      "source": [
        "<a id=\"25\"></a> <br>\n",
        "### 2.5. Separación en train y test"
      ],
      "metadata": {
        "id": "YKi3fCS1S4Qt"
      }
    },
    {
      "cell_type": "code",
      "source": [
        "# Selección de variable target\n",
        "y = df.delta_WHP_binarized\n",
        "# Selección de features\n",
        "X = df.drop([\"delta_WHP_binarized\"], axis = 1)\n",
        "\n",
        "# Separación en train y test\n",
        "X_train, X_test, y_train, y_test = train_test_split(X, y, test_size = 0.25,  stratify= y, random_state = 161)\n",
        "\n",
        "# Verificación de distribución de variable targuet en train y test\n",
        "print(\"Instancias de train \\n\", X_train.shape[0])\n",
        "print(\"Instancias de test \\n\", X_test.shape[0])"
      ],
      "metadata": {
        "id": "0DbqjuNLS_nB",
        "colab": {
          "base_uri": "https://localhost:8080/"
        },
        "outputId": "6a27d8ce-e97f-47de-86a9-79f4b00b61dc"
      },
      "execution_count": 29,
      "outputs": [
        {
          "output_type": "stream",
          "name": "stdout",
          "text": [
            "Instancias de train \n",
            " 19446\n",
            "Instancias de test \n",
            " 6483\n"
          ]
        }
      ]
    },
    {
      "cell_type": "markdown",
      "source": [
        "***\n",
        "<a id=\"#3\"></a> <br>\n",
        "## 3. Modelo"
      ],
      "metadata": {
        "id": "41rX-0dOTDWB"
      }
    },
    {
      "cell_type": "markdown",
      "source": [
        "<a id=\"31\"></a> <br>\n",
        "### 3.1. Confección pipeline"
      ],
      "metadata": {
        "id": "bguzztRpjdIp"
      }
    },
    {
      "cell_type": "code",
      "source": [
        "# Instanciado de estimador\n",
        "light_gbm_class = lgb.LGBMClassifier(random_state = 45)\n",
        "\n",
        "# Instanciado de pipeline\n",
        "pipe = Pipeline([ (\"ColumnDropper\", ColumnDropper([\"ID_EVENTO\", \"delta_WHP\"])),\n",
        "                  \n",
        "                  (\"column_transformer\",ColumnTransformer([\n",
        "                                        (\"standard_scaler\", StandardScaler(), \n",
        "                    [\"D3D\", \"D2D\", \"DZ\", \"AZ\", \"WHP_i\", \"#_BARRERAS\"])])),\n",
        "                                 \n",
        "                                 (\"light_gbm_class\", light_gbm_class)])"
      ],
      "metadata": {
        "id": "5o_F3I0Oa2Gz"
      },
      "execution_count": 30,
      "outputs": []
    },
    {
      "cell_type": "markdown",
      "source": [
        "<a id=\"32\"></a> <br>\n",
        "### 3.2. Optimización de hiperparámetros"
      ],
      "metadata": {
        "id": "mXWHbdleIKmM"
      }
    },
    {
      "cell_type": "code",
      "source": [
        "# Optimización de hiperparámetros del modelo con grid search y cross validation\n",
        "\n",
        "kfolds=StratifiedKFold(n_splits=3,shuffle=True, random_state=42)\n",
        "\n",
        "params_grid = { \n",
        "                \"light_gbm_class__max_depth\" : [10, 100, 200],\n",
        "                \"light_gbm_class__learning_rate\": [0.005, 0.01, 0.1],\n",
        "                \"light_gbm_class__n_estimators\" : [10, 100, 500, 1000]\n",
        "               }\n",
        "\n",
        "model = GridSearchCV (pipe, params_grid,cv=kfolds, n_jobs = -1, scoring = \"precision\", refit = True)"
      ],
      "metadata": {
        "id": "JmAOuGpcIJzo"
      },
      "execution_count": 31,
      "outputs": []
    },
    {
      "cell_type": "markdown",
      "source": [
        "<a id=\"33\"></a> <br>\n",
        "### 3.3. Entrenamiento del modelo"
      ],
      "metadata": {
        "id": "L-AEfo46gvKO"
      }
    },
    {
      "cell_type": "code",
      "source": [
        "# Seteado de parámetros de entrenamiento\n",
        "fit_params={\"light_gbm_class__categorical_feature\": \"auto\" }\n",
        "\n",
        "# Entrenamiento del modelo\n",
        "model.fit(X_train,y_train, **fit_params)"
      ],
      "metadata": {
        "id": "lhgm33ykcuxd",
        "colab": {
          "base_uri": "https://localhost:8080/"
        },
        "outputId": "6c540c16-63a0-4554-8048-f3ffff346ce1"
      },
      "execution_count": 32,
      "outputs": [
        {
          "output_type": "execute_result",
          "data": {
            "text/plain": [
              "GridSearchCV(cv=StratifiedKFold(n_splits=3, random_state=42, shuffle=True),\n",
              "             estimator=Pipeline(steps=[('ColumnDropper',\n",
              "                                        ColumnDropper(columns=['ID_EVENTO',\n",
              "                                                               'delta_WHP'])),\n",
              "                                       ('column_transformer',\n",
              "                                        ColumnTransformer(transformers=[('standard_scaler',\n",
              "                                                                         StandardScaler(),\n",
              "                                                                         ['D3D',\n",
              "                                                                          'D2D',\n",
              "                                                                          'DZ',\n",
              "                                                                          'AZ',\n",
              "                                                                          'WHP_i',\n",
              "                                                                          '#_BARRERAS'])])),\n",
              "                                       ('light_gbm_class',\n",
              "                                        LGBMClassifier(random_state=45))]),\n",
              "             n_jobs=-1,\n",
              "             param_grid={'light_gbm_class__learning_rate': [0.005, 0.01, 0.1,\n",
              "                                                            1],\n",
              "                         'light_gbm_class__max_depth': [5, 10, 50, 100],\n",
              "                         'light_gbm_class__n_estimators': [5, 10, 50, 100, 500,\n",
              "                                                           1000]},\n",
              "             scoring='precision')"
            ]
          },
          "metadata": {},
          "execution_count": 32
        }
      ]
    },
    {
      "cell_type": "markdown",
      "source": [
        "<a id=\"34\"></a> <br>\n",
        "### 3.4. Mejores hiperparámetros"
      ],
      "metadata": {
        "id": "XV2yLJC3NVfW"
      }
    },
    {
      "cell_type": "code",
      "source": [
        "# Mejores hiperparámetros obtenidos por cross validation y grid search\n",
        "\n",
        "model.best_params_"
      ],
      "metadata": {
        "colab": {
          "base_uri": "https://localhost:8080/"
        },
        "id": "Av9VDsJPNW6L",
        "outputId": "0b521627-effd-44d9-d530-066b569a4ff6"
      },
      "execution_count": 33,
      "outputs": [
        {
          "output_type": "execute_result",
          "data": {
            "text/plain": [
              "{'light_gbm_class__learning_rate': 0.01,\n",
              " 'light_gbm_class__max_depth': 50,\n",
              " 'light_gbm_class__n_estimators': 100}"
            ]
          },
          "metadata": {},
          "execution_count": 33
        }
      ]
    },
    {
      "cell_type": "markdown",
      "source": [
        "***\n",
        "<a id=\"#4\"></a> <br>\n",
        "## 4. Evaluación del modelo"
      ],
      "metadata": {
        "id": "t59siOjTS7RZ"
      }
    },
    {
      "cell_type": "markdown",
      "source": [
        "<a id=\"41\"></a> <br>\n",
        "### 4.1. Cálculo de métricas"
      ],
      "metadata": {
        "id": "idaXsAofNO3F"
      }
    },
    {
      "cell_type": "code",
      "source": [
        "precision_train = precision_score(y_train, model.predict(X_train))\n",
        "print(\"Precision train = \", precision_train)\n",
        "precision_test = precision_score(y_test, model.predict(X_test))\n",
        "print(\"Precision test = \", precision_test)"
      ],
      "metadata": {
        "colab": {
          "base_uri": "https://localhost:8080/"
        },
        "id": "Detq7lgWMY-m",
        "outputId": "084fd125-277f-4279-8bae-805c5a41c3c7"
      },
      "execution_count": 34,
      "outputs": [
        {
          "output_type": "stream",
          "name": "stdout",
          "text": [
            "Precision train =  0.9186915887850468\n",
            "Precision test =  0.8980169971671388\n"
          ]
        }
      ]
    },
    {
      "cell_type": "markdown",
      "source": [
        "<a id=\"42\"></a> <br>\n",
        "### 4.2. Matriz de confusión"
      ],
      "metadata": {
        "id": "YHfTJuJWw4QE"
      }
    },
    {
      "cell_type": "code",
      "source": [
        "# Matriz de confusión para modelo\n",
        "conf_matrix = confusion_matrix(y_train,  model.predict(X_train))\n",
        "f, ax = plt.subplots(figsize=(6, 4))\n",
        "sns.heatmap(conf_matrix, annot=True, fmt=\"d\", linewidths=.6, ax=ax)\n",
        "plt.title(\"Confusion Matrix LightGBM Train\", fontsize=20)\n",
        "plt.subplots_adjust(left=0.15, right=0.99, bottom=0.15, top=0.99)\n",
        "ax.set_yticks(np.arange(conf_matrix.shape[0]) + 0.5, minor=False)\n",
        "ax.set_xticklabels(['Pred Negatives', 'Pred Positives'],fontsize=16, rotation=360)\n",
        "ax.set_yticklabels(['Actual Negatives', 'Actual Positives'], fontsize=16, rotation=360)\n",
        "plt.show()\n",
        "\n",
        "conf_matrix = confusion_matrix(y_test,  model.predict(X_test))\n",
        "f, ax = plt.subplots(figsize=(6, 4))\n",
        "sns.heatmap(conf_matrix, annot=True, fmt=\"d\", linewidths=.6, ax=ax)\n",
        "plt.title(\"Confusion Matrix LightGBM Test\", fontsize=20)\n",
        "plt.subplots_adjust(left=0.15, right=0.99, bottom=0.15, top=0.99)\n",
        "ax.set_yticks(np.arange(conf_matrix.shape[0]) + 0.5, minor=False)\n",
        "ax.set_xticklabels(['Pred Negatives', 'Pred Positives'],fontsize=16, rotation=360)\n",
        "ax.set_yticklabels(['Actual Negatives', 'Actual Positives'], fontsize=16, rotation=360)\n",
        "plt.show()"
      ],
      "metadata": {
        "colab": {
          "base_uri": "https://localhost:8080/",
          "height": 615
        },
        "id": "NM9HTjrvMYzb",
        "outputId": "5e194143-a144-4f2e-ea8c-525ba24d6c20"
      },
      "execution_count": 35,
      "outputs": [
        {
          "output_type": "display_data",
          "data": {
            "text/plain": [
              "<Figure size 432x288 with 2 Axes>"
            ],
            "image/png": "[encoded data removed]"
          },
          "metadata": {
            "needs_background": "light"
          }
        },
        {
          "output_type": "display_data",
          "data": {
            "text/plain": [
              "<Figure size 432x288 with 2 Axes>"
            ],
            "image/png": "[encoded data removed]"
          },
          "metadata": {
            "needs_background": "light"
          }
        }
      ]
    },
    {
      "cell_type": "markdown",
      "source": [
        "<a id=\"43\"></a> <br>\n",
        "### 4.3. ROC Curve"
      ],
      "metadata": {
        "id": "nGyNycYxw9C2"
      }
    },
    {
      "cell_type": "code",
      "source": [
        "# Obtencion de predicciones para graficar curva ROC\n",
        "probsdmodel = model.predict_proba(X_test)\n",
        "predsdmodel = probsdmodel[:,1]\n",
        "\n",
        "lr_false_positive_rate,lr_true_positive_rate,lr_threshold = roc_curve(y_test,predsdmodel)\n",
        "\n",
        "\n",
        "# Grafico curva ROC\n",
        "sns.set_style('whitegrid')\n",
        "plt.figure(figsize=(10,5))\n",
        "plt.title('Reciver Operating Characterstic Curve')\n",
        "plt.plot(lr_false_positive_rate,lr_true_positive_rate,label='LightGBM Classifier')\n",
        "\n",
        "plt.plot([0,1],ls='--')\n",
        "plt.plot([0,0],[1,0],c='.5')\n",
        "plt.plot([1,1],c='.5')\n",
        "plt.ylabel('True positive rate')\n",
        "plt.xlabel('False positive rate')\n",
        "plt.legend()\n",
        "plt.show()"
      ],
      "metadata": {
        "colab": {
          "base_uri": "https://localhost:8080/",
          "height": 350
        },
        "id": "oQ-S66PssNnQ",
        "outputId": "067714f0-5d3a-4778-ff4d-9bc76d1e39d3"
      },
      "execution_count": 36,
      "outputs": [
        {
          "output_type": "display_data",
          "data": {
            "text/plain": [
              "<Figure size 720x360 with 1 Axes>"
            ],
            "image/png": "[encoded data removed]"
          },
          "metadata": {}
        }
      ]
    },
    {
      "cell_type": "markdown",
      "source": [
        "<a id=\"44\"></a> <br>\n",
        "### 4.4. Precision-Recall Curve"
      ],
      "metadata": {
        "id": "JaYXkrIxxBnE"
      }
    },
    {
      "cell_type": "code",
      "source": [
        "# Curva Precision-Recall\n",
        "average_precision = average_precision_score(y_test, predsdmodel)\n",
        "\n",
        "print(average_precision)\n",
        "\n",
        "disp = plot_precision_recall_curve(model, X_test, y_test)\n",
        "disp.ax_.set_title('2-class Precision-Recall curve: '\n",
        "                   'Average Precision={0:0.2f}'.format(average_precision));"
      ],
      "metadata": {
        "colab": {
          "base_uri": "https://localhost:8080/",
          "height": 313
        },
        "id": "mBqyUo-hscz2",
        "outputId": "3ea94c3a-b7dc-4504-de48-ae0ef39f4fcc"
      },
      "execution_count": 37,
      "outputs": [
        {
          "output_type": "stream",
          "name": "stdout",
          "text": [
            "0.7471644637172625\n"
          ]
        },
        {
          "output_type": "display_data",
          "data": {
            "text/plain": [
              "<Figure size 432x288 with 1 Axes>"
            ],
            "image/png": "[encoded data removed]"
          },
          "metadata": {}
        }
      ]
    }
  ]
}