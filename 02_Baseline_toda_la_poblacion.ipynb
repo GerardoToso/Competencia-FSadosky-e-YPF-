{
  "nbformat": 4,
  "nbformat_minor": 0,
  "metadata": {
    "colab": {
      "private_outputs": true,
      "provenance": [],
      "collapsed_sections": [],
      "mount_file_id": "1KaLkRH99uyRh6_yaoH5IKdkYU7R-9fe7",
      "authorship_tag": "ABX9TyOF1p46CrgchF1H0Y+CuGHt",
      "include_colab_link": true
    },
    "kernelspec": {
      "name": "python3",
      "display_name": "Python 3"
    },
    "language_info": {
      "name": "python"
    }
  },
  "cells": [
    {
      "cell_type": "markdown",
      "metadata": {
        "id": "view-in-github",
        "colab_type": "text"
      },
      "source": [
        "<a href=\"https://colab.research.google.com/github/GerardoToso/Competencia-FSadosky-e-YPF-/blob/main/02_Baseline_toda_la_poblacion.ipynb\" target=\"_parent\"><img src=\"https://colab.research.google.com/assets/colab-badge.svg\" alt=\"Open In Colab\"/></a>"
      ]
    },
    {
      "cell_type": "markdown",
      "source": [
        "<table style=\"float:left; border:none\">\n",
        "   <tr style=\"border:none\">\n",
        "       <td style=\"border:none\">  \n",
        "           <img \n",
        "               src=\"\" \n",
        "               style=\"width:10px\"\n",
        "           >\n",
        "           </a>    \n",
        "       </td>\n",
        "   </tr>\n",
        "</table>\n",
        "<div style=\"float:right;\"><h2>02. Baseline toda la población</h2></div>"
      ],
      "metadata": {
        "id": "n5s5fPTOPsxK"
      }
    },
    {
      "cell_type": "markdown",
      "source": [
        " <a id=\"top\"></a> <br>\n",
        "## Índice\n",
        "1. [Entradas y Entregable](#1)<br>\n",
        "    1.1. [Entradas del modelo](#11)<br>\n",
        "    1.2. [Entregable](#12)<br>\n",
        "2. [Carga de paquetes y datos](#2)<br>\n",
        "    2.1. [Librerías y clases](#21)<br>\n",
        "    2.2. [Lectura de datos](#22)<br>\n",
        "    2.3. [Eliminación de valores nulos](#23)<br>\n",
        "    2.4. [Separación en train y test](#24)<br>\n",
        "3. [Modelo](#3)<br>\n",
        "    3.1. [Confección pipeline](#31)<br>\n",
        "    3.2. [Optimización de hiperparámetros](#32)<br>\n",
        "    3.3. [Visualizaciones de hiperparámetros](#33)<br>\n",
        "    3.4. [Entrenamiento del modelo con mejores hiperparámetros](#34)<br>\n",
        "4. [Evaluación del modelo](#4)<br>\n",
        "    4.1. [Cálculo de métricas](#41)<br>\n",
        "    4.2. [Matriz de confusión](#42)<br>\n",
        "    4.3. [ROC Curve](#43)<br>\n",
        "    4.4. [Precision-Recall Curve](#44)<br>\n",
        "    4.5. [Feature importance](#45)<br>\n",
        "5. [Exportación con shelve](#5)<br>\n",
        "    5.1. [Exportación con shelve](#51)<br>"
      ],
      "metadata": {
        "id": "oTAVIU-USASN"
      }
    },
    {
      "cell_type": "markdown",
      "source": [
        "***\n",
        "<a id=\"1\"></a> <br>\n",
        "## 1. Entradas y Entregable"
      ],
      "metadata": {
        "id": "sGKNaC3OSFi3"
      }
    },
    {
      "cell_type": "markdown",
      "source": [
        "<a id=\"11\"></a>\n",
        "### 1.1. Entradas"
      ],
      "metadata": {
        "id": "W4a6rX52SJNY"
      }
    },
    {
      "cell_type": "markdown",
      "source": [
        "|Tipo|Nombre|Descripción|Ubicación Lab|\n",
        "|:-------|----------------|---------------------------------------------------|-------------------------------------|\n",
        "|**csv**| `Dataset participantes.csv` | datos relacionados con los pozos al producirse una interferencia por la estimulación de un pozo hijo |`/content/drive/MyDrive/DataScience/TRABAJOS PARTICULARES/YPF/DATASET/`|"
      ],
      "metadata": {
        "id": "qBs6rF_LSLjT"
      }
    },
    {
      "cell_type": "markdown",
      "source": [
        "<a id=\"12\"></a>\n",
        "### 1.2. Entregable"
      ],
      "metadata": {
        "id": "KFX_oB5TSN4z"
      }
    },
    {
      "cell_type": "markdown",
      "source": [
        "**Archivo csv con las estimaciones de delta_WHP**"
      ],
      "metadata": {
        "id": "dB85PUrtSQUf"
      }
    },
    {
      "cell_type": "markdown",
      "source": [
        "***\n",
        "<a id=\"2\"></a> <br>\n",
        "## 2. Carga de paquetes y datos"
      ],
      "metadata": {
        "id": "PfUQKCtLSTSR"
      }
    },
    {
      "cell_type": "markdown",
      "source": [
        "<a id=\"21\"></a>\n",
        "### 2.1. Librerías y clases"
      ],
      "metadata": {
        "id": "f7uHIpEMSU_T"
      }
    },
    {
      "cell_type": "code",
      "source": [
        "! pip install optuna"
      ],
      "metadata": {
        "id": "k12TQFq6nV3Z"
      },
      "execution_count": null,
      "outputs": []
    },
    {
      "cell_type": "code",
      "source": [
        "import pandas as pd\n",
        "import numpy as np\n",
        "import seaborn as sns\n",
        "import matplotlib. pyplot as plt\n",
        "\n",
        "from sklearn.model_selection import train_test_split\n",
        "from sklearn.metrics import mean_squared_error\n",
        "from sklearn import preprocessing\n",
        "from sklearn.compose import ColumnTransformer, make_column_selector\n",
        "from sklearn.preprocessing import OrdinalEncoder, OneHotEncoder, StandardScaler,  FunctionTransformer, LabelEncoder, binarize\n",
        "from sklearn.impute import SimpleImputer, KNNImputer\n",
        "from sklearn.pipeline import make_pipeline, make_union\n",
        "from sklearn.base import BaseEstimator, TransformerMixin\n",
        "from sklearn.model_selection import GridSearchCV, StratifiedKFold, cross_val_score\n",
        "import lightgbm as lgb\n",
        "\n",
        "import optuna\n",
        "\n",
        "import chardet\n",
        "%matplotlib inline\n",
        "\n",
        "from IPython.display import Image\n",
        "import pydotplus\n",
        "\n",
        "import warnings\n",
        "warnings.filterwarnings(\"ignore\")"
      ],
      "metadata": {
        "id": "L5zkaVUfSX1l"
      },
      "execution_count": null,
      "outputs": []
    },
    {
      "cell_type": "code",
      "source": [
        "# Esta clase permite dropear columnas de un DataFrame dentro de un pipeline\n",
        "\n",
        "class ColumnDropper(BaseEstimator, TransformerMixin):\n",
        "    def __init__(self,columns):\n",
        "        self.columns=columns\n",
        "\n",
        "    def transform(self,X,y=None):\n",
        "        return X.drop(self.columns,axis=1)\n",
        "\n",
        "    def fit(self, X, y=None):\n",
        "        return self  "
      ],
      "metadata": {
        "id": "f-H0tDHFSgdL"
      },
      "execution_count": null,
      "outputs": []
    },
    {
      "cell_type": "markdown",
      "source": [
        "<a id=\"22\"></a> <br>\n",
        "### 2.2. Lectura de datos"
      ],
      "metadata": {
        "id": "6mnICfTTSkN7"
      }
    },
    {
      "cell_type": "code",
      "source": [
        "# Detección automática de la codificación de los caracteres\n",
        "with open(\"/content/drive/MyDrive/DataScience/TRABAJOS PARTICULARES/YPF/DATASET/Dataset participantes.csv\", 'rb') as f:\n",
        "    enc = chardet.detect(f.read())  # or readline if the file is large\n",
        "\n",
        "# Lectura del csv\n",
        "df = pd.read_csv(\"/content/drive/MyDrive/DataScience/TRABAJOS PARTICULARES/YPF/DATASET/Dataset participantes.csv\", encoding = enc['encoding'],sep='\\t', index_col=0)\n",
        "\n",
        "df.sample(5)"
      ],
      "metadata": {
        "id": "BRzl8zLUSjyQ"
      },
      "execution_count": null,
      "outputs": []
    },
    {
      "cell_type": "markdown",
      "source": [
        "<a id=\"23\"></a> <br>\n",
        "### 2.3. Eliminación de valores nulos\n",
        "**Dado que el modelo a desarrollar en el presente notebook se tomará como baseline, no se incluyen en la solución los valores nulos**"
      ],
      "metadata": {
        "id": "jVrm83xIcvB5"
      }
    },
    {
      "cell_type": "code",
      "source": [
        "print(\"Cantidad de instancias previo a la eliminación de valores nulos: \", df.shape[0])\n",
        "df.dropna(inplace= True)\n",
        "print(\"Cantidad de instancias posterior a la eliminación de valores nulos: \", df.shape[0])"
      ],
      "metadata": {
        "id": "shXzsRubdTIG"
      },
      "execution_count": null,
      "outputs": []
    },
    {
      "cell_type": "markdown",
      "source": [
        "<a id=\"24\"></a> <br>\n",
        "### 2.4. Separación en train y test"
      ],
      "metadata": {
        "id": "YKi3fCS1S4Qt"
      }
    },
    {
      "cell_type": "code",
      "source": [
        "# Selección de variable target\n",
        "y = df.delta_WHP\n",
        "# Selección de features\n",
        "X = df.drop([\"delta_WHP\"], axis = 1)\n",
        "\n",
        "# Separación en train y test\n",
        "X_train, X_test, y_train, y_test = train_test_split(X, y, test_size = 0.25, random_state = 161)\n",
        "\n",
        "# Verificación de distribución de variable targuet en train y test\n",
        "print(\"Instancias de train \\n\", X_train.shape[0])\n",
        "print(\"Instancias de test \\n\", X_test.shape[0])"
      ],
      "metadata": {
        "id": "0DbqjuNLS_nB"
      },
      "execution_count": null,
      "outputs": []
    },
    {
      "cell_type": "markdown",
      "source": [
        "***\n",
        "<a id=\"#3\"></a> <br>\n",
        "## 3. Modelo"
      ],
      "metadata": {
        "id": "41rX-0dOTDWB"
      }
    },
    {
      "cell_type": "code",
      "source": [
        "#install python 3.9\n",
        "!sudo apt-get update -y\n",
        "!sudo apt-get install python3.9\n",
        "\n",
        "#change alternatives\n",
        "!sudo update-alternatives --install /usr/bin/python3 python3 /usr/bin/python3.7 1\n",
        "!sudo update-alternatives --install /usr/bin/python3 python3 /usr/bin/python3.9 2\n",
        "\n",
        "#check python version\n",
        "!python --version\n",
        "#3.9.6"
      ],
      "metadata": {
        "id": "oJ7sMyO4pzsZ"
      },
      "execution_count": null,
      "outputs": []
    },
    {
      "cell_type": "markdown",
      "source": [
        "<a id=\"31\"></a> <br>\n",
        "### 3.1. Confección pipeline"
      ],
      "metadata": {
        "id": "bguzztRpjdIp"
      }
    },
    {
      "cell_type": "code",
      "source": [
        "# Instanciado de estimador\n",
        "lgbm = lgb.LGBMRegressor(random_state = 45)\n",
        "\n",
        "# Instanciado de pipeline\n",
        "pipe = Pipeline[ (\"column_dropper\", ColumnDropper([\"ID_EVENTO\"])),\n",
        "                  \n",
        "                              (\"column_transformer\",ColumnTransformer([\n",
        "                                         (\"one_hot_encoder\", OneHotEncoder(),   \n",
        "                    [\"CAMPO\", \"FLUIDO\", \"PAD_HIJO\", \"HIJO\", \"ETAPA_HIJO\", \"PADRE\", \"ESTADO\"]),\n",
        "                                        (\"standard_scaler\", StandardScaler(), \n",
        "                    [\"D3D\", \"D2D\", \"DZ\", \"AZ\", \"WHP_i\", \"#_BARRERAS\"])])),\n",
        "                                 \n",
        "                                 (\"lgbm\", lgbm)]"
      ],
      "metadata": {
        "id": "5o_F3I0Oa2Gz"
      },
      "execution_count": null,
      "outputs": []
    },
    {
      "cell_type": "markdown",
      "source": [
        "<a id=\"32\"></a> <br>\n",
        "### 3.2. Optimización de hiperparámetros"
      ],
      "metadata": {
        "id": "ATdbmYMSh2L3"
      }
    },
    {
      "cell_type": "code",
      "source": [
        "# Función objetivo de optuna\n",
        "\n",
        "def objective_pipe(trial):\n",
        "\n",
        "  # Tuneo de hiperparámetros\n",
        "  max_depth_lgbm = trial.suggest_int(\"max_depth_lgbm\", 5, 50) # lgbm\n",
        "  learning_rate_lgbm = trial.suggest_float(\"learning_rate_lgbm\", 0.001, 0.08) # lgbm\n",
        "  n_estimators_lgbm = trial.suggest_int(\"n_estimators_lgbm\", 5, 100) # lgbm\n",
        "    \n",
        "    \n",
        "    \n",
        "  # Instanciado del estimador\n",
        "  light_gbm = lgb.LGBMClassifier(random_state = 45, max_depth = max_depth_lgbm, learning_rate = learning_rate_lgbm,\n",
        "                                  n_estimators = n_estimators_lgbm)\n",
        "\n",
        "  # Instanciado de pipeline\n",
        "  pipe = Pipeline[ (\"column_dropper\", ColumnDropper([\"ID_EVENTO\"])),\n",
        "                  \n",
        "                              (\"column_transformer\",ColumnTransformer([\n",
        "                                         (\"one_hot_encoder\", OneHotEncoder(),   \n",
        "                    [\"CAMPO\", \"FLUIDO\", \"PAD_HIJO\", \"HIJO\", \"ETAPA_HIJO\", \"PADRE\", \"ESTADO\"]),\n",
        "                                        (\"standard_scaler\", StandardScaler(), \n",
        "                    [\"D3D\", \"D2D\", \"DZ\", \"AZ\", \"WHP_i\", \"#_BARRERAS\"])])),\n",
        "                                 \n",
        "                                 (\"lgbm\", lgbm)]\n",
        "  # Cross validation\n",
        "  kfold=StratifiedKFold(n_splits=3, random_state=1,shuffle=True)    \n",
        "    \n",
        "  # Return\n",
        "  return cross_val_score(pipe, X_train, y_train, cv = kfold, scoring = mean_squared_error ).mean()  "
      ],
      "metadata": {
        "id": "9r2uzKw1h4N9"
      },
      "execution_count": null,
      "outputs": []
    },
    {
      "cell_type": "code",
      "source": [
        "%%time\n",
        "models=[]\n",
        "scores=[]\n",
        "pipe_study = optuna.create_study(direction=\"minimize\")\n",
        "pipe_study.optimize(objective_pipe, n_trials=10)\n",
        "model=\"light_gbm\"\n",
        "score=pipe_study.best_trial.value\n",
        "models.append(model)\n",
        "scores.append(score)"
      ],
      "metadata": {
        "id": "stZC9IFLa2EM"
      },
      "execution_count": null,
      "outputs": []
    },
    {
      "cell_type": "code",
      "source": [
        "print('Number of finished trials:', len(pipe_study.trials))\n",
        "print('Best trial: score {}, params {}'.format(pipe_study.best_trial.value, pipe_study.best_trial.params))"
      ],
      "metadata": {
        "id": "-ONF-I1Ha2BI"
      },
      "execution_count": null,
      "outputs": []
    },
    {
      "cell_type": "markdown",
      "source": [
        "<a id=\"33\"></a> <br>\n",
        "### 3.3. Visualizaciones de hiperparámetros"
      ],
      "metadata": {
        "id": "fiVBnxknuvHf"
      }
    },
    {
      "cell_type": "code",
      "source": [
        "optuna.visualization.plot_optimization_history(pipe_study)"
      ],
      "metadata": {
        "id": "hBOuD540a1-H"
      },
      "execution_count": null,
      "outputs": []
    },
    {
      "cell_type": "code",
      "source": [
        "optuna.visualization.plot_parallel_coordinate(pipe_study)"
      ],
      "metadata": {
        "id": "6Uj_f4ica15n"
      },
      "execution_count": null,
      "outputs": []
    },
    {
      "cell_type": "code",
      "source": [
        "optuna.visualization.plot_slice(pipe_study)"
      ],
      "metadata": {
        "id": "gH6zACCha1zH"
      },
      "execution_count": null,
      "outputs": []
    },
    {
      "cell_type": "code",
      "source": [
        "optuna.visualization.plot_param_importances(pipe_study)"
      ],
      "metadata": {
        "id": "KeGb5ZO2u97z"
      },
      "execution_count": null,
      "outputs": []
    },
    {
      "cell_type": "code",
      "source": [
        "optuna.visualization.plot_edf(pipe_study)"
      ],
      "metadata": {
        "id": "l158AtHUu95Q"
      },
      "execution_count": null,
      "outputs": []
    },
    {
      "cell_type": "code",
      "source": [
        "optuna.visualization.plot_contour(pipe_study)"
      ],
      "metadata": {
        "id": "EodLrECwu92N"
      },
      "execution_count": null,
      "outputs": []
    },
    {
      "cell_type": "markdown",
      "source": [
        "\n",
        "<a id=\"34\"></a> <br>\n",
        "### 3.4. Entrenamiento del modelo con mejores hiperparámetros"
      ],
      "metadata": {
        "id": "w8a1AWqQvFUl"
      }
    },
    {
      "cell_type": "code",
      "source": [
        "pipe_study.best_trial.params"
      ],
      "metadata": {
        "id": "Z437GdyivCtv"
      },
      "execution_count": null,
      "outputs": []
    },
    {
      "cell_type": "code",
      "source": [
        "# Seteado de mejores hiperparametros en el pipeline\n",
        "best_params = { \n",
        "               \"lgbm__max_depth\" : pipe_study.best_trial.params['max_depth_lgbm'],\n",
        "               \"lgbm__learning_rate\" :  pipe_study.best_trial.params['learning_rate_lgbm'],\n",
        "               \"lgbm__n_estimators\" : pipe_study.best_trial.params[\"n_estimators_lgbm\"]\n",
        "                }\n",
        "\n",
        "pipe.set_params(**best_params)"
      ],
      "metadata": {
        "id": "tP9f4NbhvCrG"
      },
      "execution_count": null,
      "outputs": []
    },
    {
      "cell_type": "code",
      "source": [
        "model = pipe.fit(X_train, y_train)"
      ],
      "metadata": {
        "id": "QABjqkcLvCoj"
      },
      "execution_count": null,
      "outputs": []
    },
    {
      "cell_type": "code",
      "source": [
        "model.get_params()"
      ],
      "metadata": {
        "id": "TIddydznvCl0"
      },
      "execution_count": null,
      "outputs": []
    }
  ]
}