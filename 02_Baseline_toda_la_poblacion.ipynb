{
  "nbformat": 4,
  "nbformat_minor": 0,
  "metadata": {
    "colab": {
      "private_outputs": true,
      "provenance": [],
      "collapsed_sections": [],
      "mount_file_id": "1KaLkRH99uyRh6_yaoH5IKdkYU7R-9fe7",
      "authorship_tag": "ABX9TyP230spO8Rsf3AVa12zEdeA",
      "include_colab_link": true
    },
    "kernelspec": {
      "name": "python3",
      "display_name": "Python 3"
    },
    "language_info": {
      "name": "python"
    }
  },
  "cells": [
    {
      "cell_type": "markdown",
      "metadata": {
        "id": "view-in-github",
        "colab_type": "text"
      },
      "source": [
        "<a href=\"https://colab.research.google.com/github/GerardoToso/Competencia-FSadosky-e-YPF-/blob/main/02_Baseline_toda_la_poblacion.ipynb\" target=\"_parent\"><img src=\"https://colab.research.google.com/assets/colab-badge.svg\" alt=\"Open In Colab\"/></a>"
      ]
    },
    {
      "cell_type": "markdown",
      "source": [
        "<table style=\"float:left; border:none\">\n",
        "   <tr style=\"border:none\">\n",
        "       <td style=\"border:none\">  \n",
        "           <img \n",
        "               src=\"\" \n",
        "               style=\"width:10px\"\n",
        "           >\n",
        "           </a>    \n",
        "       </td>\n",
        "   </tr>\n",
        "</table>\n",
        "<div style=\"float:right;\"><h2>02. Baseline toda la población</h2></div>"
      ],
      "metadata": {
        "id": "n5s5fPTOPsxK"
      }
    },
    {
      "cell_type": "markdown",
      "source": [
        " <a id=\"top\"></a> <br>\n",
        "## Índice\n",
        "1. [Entradas y Entregable](#1)<br>\n",
        "    1.1. [Entradas del modelo](#11)<br>\n",
        "    1.2. [Entregable](#12)<br>\n",
        "2. [Carga de paquetes y datos](#2)<br>\n",
        "    2.1. [Librerías y clases](#21)<br>\n",
        "    2.2. [Lectura de datos](#22)<br>\n",
        "    2.3. [Eliminación de valores nulos](#23)<br>\n",
        "    2.4. [Separación en train y test](#24)<br>\n",
        "3. [Modelo](#3)<br>\n",
        "    3.1. [Confección pipeline](#31)<br>\n",
        "    3.2. [Optimización de hiperparámetros](#32)<br>\n",
        "    3.3. [Visualizaciones de hiperparámetros](#33)<br>\n",
        "    3.4. [Entrenamiento del modelo con mejores hiperparámetros](#34)<br>\n",
        "4. [Evaluación del modelo](#4)<br>\n",
        "    4.1. [Cálculo de métricas](#41)<br>\n",
        "    4.2. [Matriz de confusión](#42)<br>\n",
        "    4.3. [ROC Curve](#43)<br>\n",
        "    4.4. [Precision-Recall Curve](#44)<br>\n",
        "    4.5. [Feature importance](#45)<br>\n",
        "5. [Exportación con shelve](#5)<br>\n",
        "    5.1. [Exportación con shelve](#51)<br>"
      ],
      "metadata": {
        "id": "oTAVIU-USASN"
      }
    },
    {
      "cell_type": "markdown",
      "source": [
        "***\n",
        "<a id=\"1\"></a> <br>\n",
        "## 1. Entradas y Entregable"
      ],
      "metadata": {
        "id": "sGKNaC3OSFi3"
      }
    },
    {
      "cell_type": "markdown",
      "source": [
        "<a id=\"11\"></a>\n",
        "### 1.1. Entradas"
      ],
      "metadata": {
        "id": "W4a6rX52SJNY"
      }
    },
    {
      "cell_type": "markdown",
      "source": [
        "|Tipo|Nombre|Descripción|Ubicación Lab|\n",
        "|:-------|----------------|---------------------------------------------------|-------------------------------------|\n",
        "|**csv**| `Dataset participantes.csv` | datos relacionados con los pozos al producirse una interferencia por la estimulación de un pozo hijo |`/content/drive/MyDrive/DataScience/TRABAJOS PARTICULARES/YPF/DATASET/`|"
      ],
      "metadata": {
        "id": "qBs6rF_LSLjT"
      }
    },
    {
      "cell_type": "markdown",
      "source": [
        "<a id=\"12\"></a>\n",
        "### 1.2. Entregable"
      ],
      "metadata": {
        "id": "KFX_oB5TSN4z"
      }
    },
    {
      "cell_type": "markdown",
      "source": [
        "**Archivo csv con las estimaciones de delta_WHP**"
      ],
      "metadata": {
        "id": "dB85PUrtSQUf"
      }
    },
    {
      "cell_type": "markdown",
      "source": [
        "***\n",
        "<a id=\"2\"></a> <br>\n",
        "## 2. Carga de paquetes y datos"
      ],
      "metadata": {
        "id": "PfUQKCtLSTSR"
      }
    },
    {
      "cell_type": "markdown",
      "source": [
        "<a id=\"21\"></a>\n",
        "### 2.1. Librerías y clases"
      ],
      "metadata": {
        "id": "f7uHIpEMSU_T"
      }
    },
    {
      "cell_type": "code",
      "source": [
        "import pandas as pd\n",
        "import numpy as np\n",
        "import seaborn as sns\n",
        "import matplotlib. pyplot as plt\n",
        "\n",
        "from sklearn.model_selection import train_test_split, GridSearchCV, KFold\n",
        "from sklearn.metrics import mean_squared_error\n",
        "from sklearn.compose import ColumnTransformer\n",
        "from sklearn.preprocessing import StandardScaler\n",
        "from sklearn.pipeline import Pipeline\n",
        "from sklearn.base import BaseEstimator, TransformerMixin\n",
        "import lightgbm as lgb\n",
        "\n",
        "import chardet\n",
        "%matplotlib inline\n",
        "\n",
        "from IPython.display import Image\n",
        "import pydotplus\n",
        "\n",
        "import warnings\n",
        "warnings.filterwarnings(\"ignore\")"
      ],
      "metadata": {
        "id": "L5zkaVUfSX1l"
      },
      "execution_count": null,
      "outputs": []
    },
    {
      "cell_type": "code",
      "source": [
        "# Esta clase permite dropear columnas de un DataFrame dentro de un pipeline\n",
        "\n",
        "class ColumnDropper(BaseEstimator, TransformerMixin):\n",
        "    def __init__(self,columns):\n",
        "        self.columns=columns\n",
        "\n",
        "    def transform(self,X,y=None):\n",
        "        return X.drop(self.columns,axis=1)\n",
        "\n",
        "    def fit(self, X, y=None):\n",
        "        return self  "
      ],
      "metadata": {
        "id": "f-H0tDHFSgdL"
      },
      "execution_count": null,
      "outputs": []
    },
    {
      "cell_type": "markdown",
      "source": [
        "<a id=\"22\"></a> <br>\n",
        "### 2.2. Lectura de datos"
      ],
      "metadata": {
        "id": "6mnICfTTSkN7"
      }
    },
    {
      "cell_type": "code",
      "source": [
        "# Detección automática de la codificación de los caracteres\n",
        "with open(\"/content/drive/MyDrive/DataScience/TRABAJOS PARTICULARES/YPF/DATASET/Dataset participantes.csv\", 'rb') as f:\n",
        "    enc = chardet.detect(f.read())  # or readline if the file is large\n",
        "\n",
        "# Lectura del csv\n",
        "df = pd.read_csv(\"/content/drive/MyDrive/DataScience/TRABAJOS PARTICULARES/YPF/DATASET/Dataset participantes.csv\", encoding = enc['encoding'],sep='\\t', index_col=0)\n",
        "\n",
        "df.sample(5)"
      ],
      "metadata": {
        "id": "BRzl8zLUSjyQ"
      },
      "execution_count": null,
      "outputs": []
    },
    {
      "cell_type": "code",
      "source": [
        "# Se cambia el tipo de datos de variables categóricas nominales de object a category\n",
        "df = df.astype({\"CAMPO\": \"category\", \"FLUIDO\": \"category\", \"PAD_HIJO\": \"category\", \"HIJO\": \"category\",\n",
        "                \"ETAPA_HIJO\": \"category\", \"PADRE\": \"category\", \"LINEAMIENTO\": \"category\", \"ESTADO\": \"category\"})\n",
        "df.dtypes"
      ],
      "metadata": {
        "id": "8fl5ijE44on8"
      },
      "execution_count": null,
      "outputs": []
    },
    {
      "cell_type": "markdown",
      "source": [
        "<a id=\"23\"></a> <br>\n",
        "### 2.3. Eliminación de valores nulos\n",
        "**Dado que el modelo a desarrollar en el presente notebook se tomará como baseline, no se incluyen en la solución los valores nulos**"
      ],
      "metadata": {
        "id": "jVrm83xIcvB5"
      }
    },
    {
      "cell_type": "code",
      "source": [
        "print(\"Cantidad de instancias previo a la eliminación de valores nulos: \", df.shape[0])\n",
        "df.dropna(inplace= True)\n",
        "print(\"Cantidad de instancias posterior a la eliminación de valores nulos: \", df.shape[0])"
      ],
      "metadata": {
        "id": "shXzsRubdTIG"
      },
      "execution_count": null,
      "outputs": []
    },
    {
      "cell_type": "markdown",
      "source": [
        "<a id=\"24\"></a> <br>\n",
        "### 2.4. Separación en train y test"
      ],
      "metadata": {
        "id": "YKi3fCS1S4Qt"
      }
    },
    {
      "cell_type": "code",
      "source": [
        "# Selección de variable target\n",
        "y = df.delta_WHP\n",
        "# Selección de features\n",
        "X = df.drop([\"delta_WHP\"], axis = 1)\n",
        "\n",
        "# Separación en train y test\n",
        "X_train, X_test, y_train, y_test = train_test_split(X, y, test_size = 0.25, random_state = 161)\n",
        "\n",
        "# Verificación de distribución de variable targuet en train y test\n",
        "print(\"Instancias de train \\n\", X_train.shape[0])\n",
        "print(\"Instancias de test \\n\", X_test.shape[0])"
      ],
      "metadata": {
        "id": "0DbqjuNLS_nB"
      },
      "execution_count": null,
      "outputs": []
    },
    {
      "cell_type": "markdown",
      "source": [
        "***\n",
        "<a id=\"#3\"></a> <br>\n",
        "## 3. Modelo"
      ],
      "metadata": {
        "id": "41rX-0dOTDWB"
      }
    },
    {
      "cell_type": "markdown",
      "source": [
        "<a id=\"31\"></a> <br>\n",
        "### 3.1. Confección pipeline"
      ],
      "metadata": {
        "id": "bguzztRpjdIp"
      }
    },
    {
      "cell_type": "code",
      "source": [
        "# Instanciado de estimador\n",
        "light_gbm = lgb.LGBMRegressor(random_state = 45)\n",
        "\n",
        "# Instanciado de pipeline\n",
        "pipe = Pipeline([ (\"ColumnDropper\", ColumnDropper([\"ID_EVENTO\"])),\n",
        "                  \n",
        "                  (\"column_transformer\",ColumnTransformer([\n",
        "                                        (\"standard_scaler\", StandardScaler(), \n",
        "                    [\"D3D\", \"D2D\", \"DZ\", \"AZ\", \"WHP_i\", \"#_BARRERAS\"])])),\n",
        "                                 \n",
        "                                 (\"light_gbm\", light_gbm)])"
      ],
      "metadata": {
        "id": "5o_F3I0Oa2Gz"
      },
      "execution_count": null,
      "outputs": []
    },
    {
      "cell_type": "markdown",
      "source": [
        "<a id=\"32\"></a> <br>\n",
        "### 3.2. Optimización de hiperparámetros"
      ],
      "metadata": {
        "id": "L-AEfo46gvKO"
      }
    },
    {
      "cell_type": "code",
      "source": [
        "# Optimización de hiperparámetros del modelo con grid search y cross validation\n",
        "\n",
        "kfolds=KFold(n_splits=3,shuffle=True, random_state=42)\n",
        "\n",
        "params_grid = { \n",
        "                \"light_gbm__max_depth\" : [5,10,50,80],\n",
        "                \"light_gbm__learning_rate\": [0.01,0.05,1],\n",
        "                \"light_gbm__n_estimators\" : [5,100,500,1000] \n",
        "                              }\n",
        "\n",
        "model = GridSearchCV (pipe, params_grid, cv=kfolds, n_jobs = -1, scoring = \"neg_root_mean_squared_error\", refit = True)"
      ],
      "metadata": {
        "id": "HZDF22pjcu1a"
      },
      "execution_count": null,
      "outputs": []
    },
    {
      "cell_type": "code",
      "source": [
        "# Seteado de parámetros de entrenamiento\n",
        "fit_params={\"light_gbm__categorical_feature\": \"auto\" }\n",
        "\n",
        "# Entrenamiento del modelo\n",
        "model.fit(X_train,y_train, **fit_params)"
      ],
      "metadata": {
        "id": "lhgm33ykcuxd"
      },
      "execution_count": null,
      "outputs": []
    },
    {
      "cell_type": "code",
      "source": [
        "# Mejores hiperparámetros obtenidos por cross validation y grid search\n",
        "model.best_params_"
      ],
      "metadata": {
        "id": "d1ZVaDVGbJ4V"
      },
      "execution_count": null,
      "outputs": []
    },
    {
      "cell_type": "code",
      "source": [
        "# Valor de RMSE en train\n",
        "print(\"RMSE en train = \",mean_squared_error(y_train, model.predict(X_train), squared=False))\n",
        "print(\"RMSE en test = \",mean_squared_error(y_test, model.predict(X_test), squared=False))"
      ],
      "metadata": {
        "id": "yeOo0YMWet-9"
      },
      "execution_count": null,
      "outputs": []
    }
  ]
}