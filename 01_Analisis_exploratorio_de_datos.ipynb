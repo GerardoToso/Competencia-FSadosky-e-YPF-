{
  "nbformat": 4,
  "nbformat_minor": 0,
  "metadata": {
    "colab": {
      "provenance": [],
      "mount_file_id": "1CB3_axa46UbN4XG9pAoyljMjqKRDtU7x",
      "authorship_tag": "ABX9TyNx7049HerjN0vfsxv/skhw",
      "include_colab_link": true
    },
    "kernelspec": {
      "name": "python3",
      "display_name": "Python 3"
    },
    "language_info": {
      "name": "python"
    }
  },
  "cells": [
    {
      "cell_type": "markdown",
      "metadata": {
        "id": "view-in-github",
        "colab_type": "text"
      },
      "source": [
        "<a href=\"https://colab.research.google.com/github/GerardoToso/Competencia-FSadosky-e-YPF-/blob/main/01_Analisis_exploratorio_de_datos.ipynb\" target=\"_parent\"><img src=\"https://colab.research.google.com/assets/colab-badge.svg\" alt=\"Open In Colab\"/></a>"
      ]
    },
    {
      "cell_type": "markdown",
      "source": [
        "<table style=\"float:left; border:none\">\n",
        "   <tr style=\"border:none\">\n",
        "       <td style=\"border:none\">  \n",
        "           <img \n",
        "               src=\"assets/Logo_de_YPF.png\" \n",
        "               style=\"width:300px\"\n",
        "           >\n",
        "           </a>    \n",
        "       </td>\n",
        "   </tr>\n",
        "</table>\n",
        "<div style=\"float:right;\"><h2>01. Análisis exploratorio de datos</h2></div>"
      ],
      "metadata": {
        "id": "sdAU2kt2osE8"
      }
    },
    {
      "cell_type": "markdown",
      "source": [
        " <a id=\"top\"></a> <br>\n",
        "## Índice\n",
        "1. [Presentación del problema](#1)<br>\n",
        "2. [Carga de paquetes y datos](#2)<br>\n",
        "    2.1. [Importación de librerias](#21)<br>\n",
        "    2.2. [Lectura de datos](#22)<br>\n",
        "3. [Analisis exploratorio de datos](#3)<br>\n",
        "    3.1. [Primer aproximamiento a los datos](#31)<br>\n",
        "    3.2. [Analisis de valores nulos](#32)<br>\n",
        "    3.3. [Análisis de variable target](#33)<br>\n",
        "    3.4. [Análisis de variable City](#34)<br>\n",
        "    3.5. [Análisis de variable City Development Index](#35)<br>\n",
        "    3.6. [Análisis de variable Education Level](#36)<br>\n",
        "    3.7. [Análisis de variable Company Type y Company Size](#37)<br>\n",
        "    3.8. [Análisis de variable Training hours](#38)<br>"
      ],
      "metadata": {
        "id": "TYnZvt1Hrw-s"
      }
    },
    {
      "cell_type": "markdown",
      "source": [
        "***\n",
        "<a id=\"1\"></a> <br>\n",
        "## 1. Presentación del problema"
      ],
      "metadata": {
        "id": "V1FmwzU4r8Qi"
      }
    },
    {
      "cell_type": "markdown",
      "source": [
        "***\n",
        "<a id=\"2\"></a> <br>\n",
        "## 2. Carga de paquetes y datos"
      ],
      "metadata": {
        "id": "Nu0e21NzsDN0"
      }
    },
    {
      "cell_type": "markdown",
      "source": [
        "<a id=\"21\"></a>\n",
        "### 2.1. Importación de librerias"
      ],
      "metadata": {
        "id": "tTCHzj2_sEIl"
      }
    },
    {
      "cell_type": "code",
      "source": [
        "import pandas as pd\n",
        "import numpy as np\n",
        "import seaborn as sns\n",
        "import matplotlib.pyplot as plt\n",
        "from pandas_profiling import ProfileReport\n",
        "import warnings\n",
        "import plotly.express as px\n",
        "import chardet"
      ],
      "metadata": {
        "id": "UrsPunXvsJ1t"
      },
      "execution_count": null,
      "outputs": []
    },
    {
      "cell_type": "markdown",
      "source": [
        "<a id=\"22\"></a>\n",
        "### 2.2. Lectura de datos"
      ],
      "metadata": {
        "id": "nRYuARTqsM3d"
      }
    },
    {
      "cell_type": "code",
      "source": [
        "# Detección automática de la codificación de los caracteres\n",
        "with open(\"../data/Dataset participantes.csv\", 'rb') as f:\n",
        "    enc = chardet.detect(f.read())  # or readline if the file is large\n",
        "\n",
        "# Lectura del csv\n",
        "df = pd.read_csv(\"../data/Dataset participantes.csv\", encoding = enc['encoding'],sep='\\t')"
      ],
      "metadata": {
        "colab": {
          "base_uri": "https://localhost:8080/",
          "height": 235
        },
        "id": "W1tM00DesNuR",
        "outputId": "090ff431-6170-43ab-a513-b0fbb5134caf"
      },
      "execution_count": null,
      "outputs": [
        {
          "output_type": "error",
          "ename": "FileNotFoundError",
          "evalue": "ignored",
          "traceback": [
            "\u001b[0;31m---------------------------------------------------------------------------\u001b[0m",
            "\u001b[0;31mFileNotFoundError\u001b[0m                         Traceback (most recent call last)",
            "\u001b[0;32m<ipython-input-6-c105b3cce61c>\u001b[0m in \u001b[0;36m<module>\u001b[0;34m\u001b[0m\n\u001b[1;32m      4\u001b[0m \u001b[0;34m\u001b[0m\u001b[0m\n\u001b[1;32m      5\u001b[0m \u001b[0;31m# Detección automática de la codificación de los caracteres\u001b[0m\u001b[0;34m\u001b[0m\u001b[0;34m\u001b[0m\u001b[0;34m\u001b[0m\u001b[0m\n\u001b[0;32m----> 6\u001b[0;31m \u001b[0;32mwith\u001b[0m \u001b[0mopen\u001b[0m\u001b[0;34m(\u001b[0m\u001b[0mpath\u001b[0m\u001b[0;34m+\u001b[0m\u001b[0mkey\u001b[0m\u001b[0;34m,\u001b[0m \u001b[0;34m'rb'\u001b[0m\u001b[0;34m)\u001b[0m \u001b[0;32mas\u001b[0m \u001b[0mf\u001b[0m\u001b[0;34m:\u001b[0m\u001b[0;34m\u001b[0m\u001b[0;34m\u001b[0m\u001b[0m\n\u001b[0m\u001b[1;32m      7\u001b[0m     \u001b[0menc\u001b[0m \u001b[0;34m=\u001b[0m \u001b[0mchardet\u001b[0m\u001b[0;34m.\u001b[0m\u001b[0mdetect\u001b[0m\u001b[0;34m(\u001b[0m\u001b[0mf\u001b[0m\u001b[0;34m.\u001b[0m\u001b[0mread\u001b[0m\u001b[0;34m(\u001b[0m\u001b[0;34m)\u001b[0m\u001b[0;34m)\u001b[0m  \u001b[0;31m# or readline if the file is large\u001b[0m\u001b[0;34m\u001b[0m\u001b[0;34m\u001b[0m\u001b[0m\n\u001b[1;32m      8\u001b[0m \u001b[0;34m\u001b[0m\u001b[0m\n",
            "\u001b[0;31mFileNotFoundError\u001b[0m: [Errno 2] No such file or directory: '../DATASET/Dataset participantes.csv'"
          ]
        }
      ]
    },
    {
      "cell_type": "markdown",
      "source": [
        "La tabla contiene las columnas que se describen en la siguiente lista:\n",
        "\n",
        "- ID_FILA: Identificador usado para subir la solución.\n",
        "- ID_EVENTO: Identificador único de la línea.\n",
        "- CAMPO: Nombre del Bloque al que pertenece el PAD Hijo.\n",
        "- FLUIDO: Fluido que produce el PAD (Gas o Petróleo).\n",
        "- PAD_HIJO: Nombre del PAD Hijo: HIJO: Nombre del Pozo Hijo.\n",
        "- ETAPA_HIJO: Número de Etapa de Fractura del pozo Hijo.\n",
        "- PADRE: Nombre del Pozo Padre.\n",
        "- D3D: Distancia tridimensional entre la etapa de fractura del Pozo Hijo y la etapa de fractura más cercana del Pozo Padre (DX^2+DY^2+DZ^2)/2.\n",
        "- D2D: Distancia en planta (vista de pajaro - sin considerar distancia vertical) entre la etapa de fractura del Pozo Hijo y la etapa de fractura más cercana del Pozo Padre (DX^2+DY^2)*(1/2).\n",
        "- DZ: Distancia vertical (diferencia de altura) entre la etapa de fractura del Pozo Hijo y la etapa de fractura más cercana del Pozo Padre.\n",
        "- AZ: Angulo respecto al norte que forma la linea recta que une la etapa de fractura del Pozo Hijo y la etapa de fractura más cercana del Pozo Padre.\n",
        "- #_BARRERAS: Cantidad de pozos padre entre el Pozo Hijo y el Pozo Padre considerado. Se consideran todos los pozos atravesados por la linea considerada en la D2D, y dentro de un espacio vertical que abarca toda la distancia vertical entre Pozo Hijo y Pozo Padre más 40m por encima y por debajo.\n",
        "- LINEAMIENTO: Anomalías geológicas que atraviesan al Pozo Hijo y Pozo Padre.\n",
        "- WHP_i: Presión al inicio de la interferencia.\n",
        "- delta_WHP: Salto de presión generado por la interferencia. Desde la presión inicial al punto máximo o mínimo del salto.\n",
        "- ESTADO: Estado del pozo al momento de la interferencia. Cerrado/Abierto.\n",
        "\n",
        "Es importante notar que las variables WHP_i y delta_WHP corresponden respectivamente a P y ΔP de la ecuación 1. E s DP la variable que debe estimarse con el modelo cuyo salida será ΔPest de la ecuación. En dicha tabla cada fila corresponderá a un evento a modelar."
      ],
      "metadata": {
        "id": "dEoUl6GPsP1s"
      }
    },
    {
      "cell_type": "markdown",
      "source": [
        "***\n",
        "<a id=\"3\"></a> <br>\n",
        "## 3. Analisis exploratorio de datos"
      ],
      "metadata": {
        "id": "3IswYk-msXLy"
      }
    },
    {
      "cell_type": "markdown",
      "source": [
        "<a id=\"31\"></a>\n",
        "### 3.1. Primer aproximamiento a los datos"
      ],
      "metadata": {
        "id": "rD1o_w5dsa5I"
      }
    },
    {
      "cell_type": "code",
      "source": [
        "# Se genera un reporte con pandas profiling\n",
        "data_report = ProfileReport(df)\n",
        "data_report"
      ],
      "metadata": {
        "id": "03Hzt-SSsdD-"
      },
      "execution_count": null,
      "outputs": []
    },
    {
      "cell_type": "code",
      "source": [
        "hajjhsjhvkj"
      ],
      "metadata": {
        "id": "7eHbTwTglggr"
      },
      "execution_count": null,
      "outputs": []
    }
  ]
}